{
 "cells": [
  {
   "cell_type": "markdown",
   "source": [
    "# Calculating BLEU scores for Google vs Deepl\n",
    "\n",
    "### Importing required packages"
   ],
   "metadata": {}
  },
  {
   "cell_type": "code",
   "execution_count": 14,
   "source": [
    "import pandas as pd\n",
    "import numpy as np\n",
    "from nltk.translate.bleu_score import sentence_bleu\n",
    "from nltk import word_tokenize"
   ],
   "outputs": [],
   "metadata": {}
  },
  {
   "cell_type": "markdown",
   "source": [
    "### Reading the csv file and saving the df as 'poems'"
   ],
   "metadata": {}
  },
  {
   "cell_type": "code",
   "execution_count": 8,
   "source": [
    "poems = pd.read_csv(\"span_eng_poems_correct.csv\")"
   ],
   "outputs": [],
   "metadata": {}
  },
  {
   "cell_type": "markdown",
   "source": [
    "### Creating a function for calculating BLEU scores"
   ],
   "metadata": {}
  },
  {
   "cell_type": "code",
   "execution_count": 9,
   "source": [
    "def calculate_bleu(ref, hyp):\n",
    "    return sentence_bleu([word_tokenize(ref)], word_tokenize(hyp))"
   ],
   "outputs": [],
   "metadata": {}
  },
  {
   "cell_type": "markdown",
   "source": [
    "### Running the function and adding new columns for these BLEU scores"
   ],
   "metadata": {}
  },
  {
   "cell_type": "code",
   "execution_count": 10,
   "source": [
    "poems['bleu_google'] = poems.apply(lambda row: calculate_bleu(row['goog_trans'], row['hum_trans']), axis=1)\n",
    "# poems['bleu_deepl'] = poems.apply(lambda row: calculate_bleu(row['deepl_trans'], row['hum_trans']), axis=1)"
   ],
   "outputs": [
    {
     "output_type": "stream",
     "name": "stderr",
     "text": [
      "/Library/Frameworks/Python.framework/Versions/3.11/lib/python3.11/site-packages/nltk/translate/bleu_score.py:552: UserWarning: \n",
      "The hypothesis contains 0 counts of 3-gram overlaps.\n",
      "Therefore the BLEU score evaluates to 0, independently of\n",
      "how many N-gram overlaps of lower order it contains.\n",
      "Consider using lower n-gram order or use SmoothingFunction()\n",
      "  warnings.warn(_msg)\n",
      "/Library/Frameworks/Python.framework/Versions/3.11/lib/python3.11/site-packages/nltk/translate/bleu_score.py:552: UserWarning: \n",
      "The hypothesis contains 0 counts of 4-gram overlaps.\n",
      "Therefore the BLEU score evaluates to 0, independently of\n",
      "how many N-gram overlaps of lower order it contains.\n",
      "Consider using lower n-gram order or use SmoothingFunction()\n",
      "  warnings.warn(_msg)\n",
      "/Library/Frameworks/Python.framework/Versions/3.11/lib/python3.11/site-packages/nltk/translate/bleu_score.py:552: UserWarning: \n",
      "The hypothesis contains 0 counts of 2-gram overlaps.\n",
      "Therefore the BLEU score evaluates to 0, independently of\n",
      "how many N-gram overlaps of lower order it contains.\n",
      "Consider using lower n-gram order or use SmoothingFunction()\n",
      "  warnings.warn(_msg)\n"
     ]
    }
   ],
   "metadata": {}
  },
  {
   "cell_type": "code",
   "execution_count": 11,
   "source": [
    "# The df now has BLEU scores (yay!)\n",
    "poems"
   ],
   "outputs": [
    {
     "output_type": "execute_result",
     "data": {
      "text/html": [
       "<div>\n",
       "<style scoped>\n",
       "    .dataframe tbody tr th:only-of-type {\n",
       "        vertical-align: middle;\n",
       "    }\n",
       "\n",
       "    .dataframe tbody tr th {\n",
       "        vertical-align: top;\n",
       "    }\n",
       "\n",
       "    .dataframe thead th {\n",
       "        text-align: right;\n",
       "    }\n",
       "</style>\n",
       "<table border=\"1\" class=\"dataframe\">\n",
       "  <thead>\n",
       "    <tr style=\"text-align: right;\">\n",
       "      <th></th>\n",
       "      <th>orig_span</th>\n",
       "      <th>hum_trans</th>\n",
       "      <th>goog_trans</th>\n",
       "      <th>deepl_trans</th>\n",
       "      <th>translator_name</th>\n",
       "      <th>time_period</th>\n",
       "      <th>bleu_google</th>\n",
       "    </tr>\n",
       "  </thead>\n",
       "  <tbody>\n",
       "    <tr>\n",
       "      <th>0</th>\n",
       "      <td>¿Qué farayu o qué serád de mibi? \\nHabibi, \\nn...</td>\n",
       "      <td>What shall I do? What will become of me? \\nOh,...</td>\n",
       "      <td>What farayu or what will become of mibi?\\nHabi...</td>\n",
       "      <td>NaN</td>\n",
       "      <td>anon</td>\n",
       "      <td>med</td>\n",
       "      <td>8.543706e-02</td>\n",
       "    </tr>\n",
       "    <tr>\n",
       "      <th>1</th>\n",
       "      <td>De los sos ojos tan fuertemientre llorando, \\n...</td>\n",
       "      <td>His eyes flooding with bitter tears, the Cid c...</td>\n",
       "      <td>From your eyes so strong while crying,\\nHe tur...</td>\n",
       "      <td>NaN</td>\n",
       "      <td>John A. Crow</td>\n",
       "      <td>med</td>\n",
       "      <td>4.624918e-02</td>\n",
       "    </tr>\n",
       "    <tr>\n",
       "      <th>2</th>\n",
       "      <td>¡Merced, ya rey señor por amor de caridad! \\nL...</td>\n",
       "      <td>Justice and mercy, my Lord the King, I beseech...</td>\n",
       "      <td>Mercy, now king, sir, for the love of charity!...</td>\n",
       "      <td>NaN</td>\n",
       "      <td>John Hookham Frere</td>\n",
       "      <td>med</td>\n",
       "      <td>4.310849e-02</td>\n",
       "    </tr>\n",
       "    <tr>\n",
       "      <th>3</th>\n",
       "      <td>Sant Migael de la Tunba es un grand monesterio...</td>\n",
       "      <td>San Miguel de la Tumba is a convent vast and w...</td>\n",
       "      <td>Sant Migael de la Tunba is a great monastery,\\...</td>\n",
       "      <td>NaN</td>\n",
       "      <td>Henry Wadsworth Longfellow</td>\n",
       "      <td>med</td>\n",
       "      <td>6.237107e-155</td>\n",
       "    </tr>\n",
       "    <tr>\n",
       "      <th>4</th>\n",
       "      <td>Colgava delant ella un buen aventadero, \\nen e...</td>\n",
       "      <td>Descending low before her face a screen of fea...</td>\n",
       "      <td>There was a good window hanging in front of he...</td>\n",
       "      <td>NaN</td>\n",
       "      <td>Henry Wadsworth Longfellow</td>\n",
       "      <td>med</td>\n",
       "      <td>4.948828e-155</td>\n",
       "    </tr>\n",
       "    <tr>\n",
       "      <th>...</th>\n",
       "      <td>...</td>\n",
       "      <td>...</td>\n",
       "      <td>...</td>\n",
       "      <td>...</td>\n",
       "      <td>...</td>\n",
       "      <td>...</td>\n",
       "      <td>...</td>\n",
       "    </tr>\n",
       "    <tr>\n",
       "      <th>260</th>\n",
       "      <td>Éste, que ves, engaño colorido, \\nque del arte...</td>\n",
       "      <td>This artifice of colors that you see \\nWhich b...</td>\n",
       "      <td>This one, what do you see, colorful deception,...</td>\n",
       "      <td>NaN</td>\n",
       "      <td>John A. Crow</td>\n",
       "      <td>baroque</td>\n",
       "      <td>1.386495e-01</td>\n",
       "    </tr>\n",
       "    <tr>\n",
       "      <th>261</th>\n",
       "      <td>De buscar a Narciso fatigada \\nsin permitir so...</td>\n",
       "      <td>Seeking Narcissus in my weariness, \\nWith neve...</td>\n",
       "      <td>Searching for Narcissus tired\\nwithout allowin...</td>\n",
       "      <td>NaN</td>\n",
       "      <td>Roderick Gill</td>\n",
       "      <td>baroque</td>\n",
       "      <td>3.946151e-02</td>\n",
       "    </tr>\n",
       "    <tr>\n",
       "      <th>262</th>\n",
       "      <td>Esta tarde, mi bien, cuando te hablaba, \\ncomo...</td>\n",
       "      <td>This afternoon. my Love, as I pled weeping, \\n...</td>\n",
       "      <td>This afternoon, my good, when I spoke to you,\\...</td>\n",
       "      <td>NaN</td>\n",
       "      <td>John A. Crow</td>\n",
       "      <td>baroque</td>\n",
       "      <td>5.804326e-02</td>\n",
       "    </tr>\n",
       "    <tr>\n",
       "      <th>263</th>\n",
       "      <td>Detente, sombra de mi bien esquivo, \\nimagen d...</td>\n",
       "      <td>Stay, fleeting shadow of my love whose chain \\...</td>\n",
       "      <td>Stop, shadow of my elusive good,\\nimage of the...</td>\n",
       "      <td>NaN</td>\n",
       "      <td>John A. Crow</td>\n",
       "      <td>baroque</td>\n",
       "      <td>5.716907e-02</td>\n",
       "    </tr>\n",
       "    <tr>\n",
       "      <th>264</th>\n",
       "      <td>Hombres necios que acusáis \\na la mujer sin ra...</td>\n",
       "      <td>Stupid men, forever prone \\nTo fix the blame o...</td>\n",
       "      <td>Foolish men you accuse\\nto the woman without r...</td>\n",
       "      <td>NaN</td>\n",
       "      <td>Garrett Strange</td>\n",
       "      <td>baroque</td>\n",
       "      <td>6.989756e-79</td>\n",
       "    </tr>\n",
       "  </tbody>\n",
       "</table>\n",
       "<p>265 rows × 7 columns</p>\n",
       "</div>"
      ],
      "text/plain": [
       "                                             orig_span  \\\n",
       "0    ¿Qué farayu o qué serád de mibi? \\nHabibi, \\nn...   \n",
       "1    De los sos ojos tan fuertemientre llorando, \\n...   \n",
       "2    ¡Merced, ya rey señor por amor de caridad! \\nL...   \n",
       "3    Sant Migael de la Tunba es un grand monesterio...   \n",
       "4    Colgava delant ella un buen aventadero, \\nen e...   \n",
       "..                                                 ...   \n",
       "260  Éste, que ves, engaño colorido, \\nque del arte...   \n",
       "261  De buscar a Narciso fatigada \\nsin permitir so...   \n",
       "262  Esta tarde, mi bien, cuando te hablaba, \\ncomo...   \n",
       "263  Detente, sombra de mi bien esquivo, \\nimagen d...   \n",
       "264  Hombres necios que acusáis \\na la mujer sin ra...   \n",
       "\n",
       "                                             hum_trans  \\\n",
       "0    What shall I do? What will become of me? \\nOh,...   \n",
       "1    His eyes flooding with bitter tears, the Cid c...   \n",
       "2    Justice and mercy, my Lord the King, I beseech...   \n",
       "3    San Miguel de la Tumba is a convent vast and w...   \n",
       "4    Descending low before her face a screen of fea...   \n",
       "..                                                 ...   \n",
       "260  This artifice of colors that you see \\nWhich b...   \n",
       "261  Seeking Narcissus in my weariness, \\nWith neve...   \n",
       "262  This afternoon. my Love, as I pled weeping, \\n...   \n",
       "263  Stay, fleeting shadow of my love whose chain \\...   \n",
       "264  Stupid men, forever prone \\nTo fix the blame o...   \n",
       "\n",
       "                                            goog_trans  deepl_trans  \\\n",
       "0    What farayu or what will become of mibi?\\nHabi...          NaN   \n",
       "1    From your eyes so strong while crying,\\nHe tur...          NaN   \n",
       "2    Mercy, now king, sir, for the love of charity!...          NaN   \n",
       "3    Sant Migael de la Tunba is a great monastery,\\...          NaN   \n",
       "4    There was a good window hanging in front of he...          NaN   \n",
       "..                                                 ...          ...   \n",
       "260  This one, what do you see, colorful deception,...          NaN   \n",
       "261  Searching for Narcissus tired\\nwithout allowin...          NaN   \n",
       "262  This afternoon, my good, when I spoke to you,\\...          NaN   \n",
       "263  Stop, shadow of my elusive good,\\nimage of the...          NaN   \n",
       "264  Foolish men you accuse\\nto the woman without r...          NaN   \n",
       "\n",
       "                translator_name time_period    bleu_google  \n",
       "0                          anon         med   8.543706e-02  \n",
       "1                  John A. Crow         med   4.624918e-02  \n",
       "2            John Hookham Frere         med   4.310849e-02  \n",
       "3    Henry Wadsworth Longfellow         med  6.237107e-155  \n",
       "4    Henry Wadsworth Longfellow         med  4.948828e-155  \n",
       "..                          ...         ...            ...  \n",
       "260                John A. Crow     baroque   1.386495e-01  \n",
       "261               Roderick Gill     baroque   3.946151e-02  \n",
       "262                John A. Crow     baroque   5.804326e-02  \n",
       "263                John A. Crow     baroque   5.716907e-02  \n",
       "264             Garrett Strange     baroque   6.989756e-79  \n",
       "\n",
       "[265 rows x 7 columns]"
      ]
     },
     "metadata": {},
     "execution_count": 11
    }
   ],
   "metadata": {}
  },
  {
   "cell_type": "markdown",
   "source": [
    "### Calculating the average of the respective BLEU scores"
   ],
   "metadata": {}
  },
  {
   "cell_type": "code",
   "execution_count": 16,
   "source": [
    "np.mean(poems['bleu_google'])"
   ],
   "outputs": [
    {
     "output_type": "execute_result",
     "data": {
      "text/plain": [
       "0.10171460119215482"
      ]
     },
     "metadata": {},
     "execution_count": 16
    }
   ],
   "metadata": {}
  }
 ],
 "metadata": {
  "orig_nbformat": 4,
  "language_info": {
   "name": "python",
   "version": "3.11.1",
   "mimetype": "text/x-python",
   "codemirror_mode": {
    "name": "ipython",
    "version": 3
   },
   "pygments_lexer": "ipython3",
   "nbconvert_exporter": "python",
   "file_extension": ".py"
  },
  "kernelspec": {
   "name": "python3",
   "display_name": "Python 3.11.1 64-bit"
  },
  "interpreter": {
   "hash": "aee8b7b246df8f9039afb4144a1f6fd8d2ca17a180786b69acc140d282b71a49"
  }
 },
 "nbformat": 4,
 "nbformat_minor": 2
}