{
 "cells": [
  {
   "cell_type": "markdown",
   "source": [
    "# Adding DeepL Translations with API"
   ],
   "metadata": {}
  },
  {
   "cell_type": "code",
   "execution_count": 17,
   "source": [
    "# install the deepl package\n",
    "pip install deepl"
   ],
   "outputs": [
    {
     "output_type": "stream",
     "name": "stdout",
     "text": [
      "Collecting deepl\n",
      "  Downloading deepl-1.18.0-py3-none-any.whl.metadata (27 kB)\n",
      "Requirement already satisfied: requests<3,>=2 in /Library/Frameworks/Python.framework/Versions/3.11/lib/python3.11/site-packages (from deepl) (2.31.0)\n",
      "Requirement already satisfied: charset-normalizer<4,>=2 in /Library/Frameworks/Python.framework/Versions/3.11/lib/python3.11/site-packages (from requests<3,>=2->deepl) (3.3.2)\n",
      "Requirement already satisfied: idna<4,>=2.5 in /Library/Frameworks/Python.framework/Versions/3.11/lib/python3.11/site-packages (from requests<3,>=2->deepl) (3.4)\n",
      "Requirement already satisfied: urllib3<3,>=1.21.1 in /Library/Frameworks/Python.framework/Versions/3.11/lib/python3.11/site-packages (from requests<3,>=2->deepl) (2.2.1)\n",
      "Requirement already satisfied: certifi>=2017.4.17 in /Library/Frameworks/Python.framework/Versions/3.11/lib/python3.11/site-packages (from requests<3,>=2->deepl) (2024.2.2)\n",
      "Downloading deepl-1.18.0-py3-none-any.whl (35 kB)\n",
      "Installing collected packages: deepl\n",
      "Successfully installed deepl-1.18.0\n",
      "Note: you may need to restart the kernel to use updated packages.\n"
     ]
    }
   ],
   "metadata": {}
  },
  {
   "cell_type": "code",
   "execution_count": 143,
   "source": [
    "import deepl\n",
    "import pandas as pd\n",
    "import numpy as np"
   ],
   "outputs": [],
   "metadata": {}
  },
  {
   "cell_type": "code",
   "execution_count": 68,
   "source": [
    "poems = pd.read_csv(\"span_eng_poems_correct.csv\")"
   ],
   "outputs": [],
   "metadata": {}
  },
  {
   "cell_type": "code",
   "execution_count": 69,
   "source": [
    "# running a test with 2 observations:\n",
    "translator = deepl.Translator(\"91564d27-fd5f-4a47-9820-19f7895178ed:fx\")"
   ],
   "outputs": [],
   "metadata": {}
  },
  {
   "cell_type": "code",
   "execution_count": 73,
   "source": [
    "# will not automate, be extra careful as we have limited tries.\n",
    "poems['orig_span'][0:51]\n",
    "poems['orig_span'][51:101]\n",
    "poems['orig_span'][101:151]\n",
    "poems['orig_span'][151:201]\n",
    "poems['orig_span'][201:251]\n",
    "poems['orig_span'][251:]"
   ],
   "outputs": [
    {
     "output_type": "execute_result",
     "data": {
      "text/plain": [
       "251    Dijo a la rana el mosquito \\ndesde una tinaja,...\n",
       "252    ¡Un famoso escultor, Lisi esquiva! \\nEn una pi...\n",
       "253    Este mortal despojo, o caminante, \\ntriste hor...\n",
       "254    No me mueve, mi Dios, para quererte, \\nel ciel...\n",
       "255    Libre arroyuelo detente, \\nno te quieras despe...\n",
       "256    Cuando de mi confuso pensamiento, \\nnecio amor...\n",
       "257    Éstas, que fueron pompa y alegría, \\ndespertan...\n",
       "258    Demonio. Ea, infernal abismo, \\ndesesperado im...\n",
       "259    ¿Qué es la vida? Un frenesí. \\n¿Qué es la vida...\n",
       "260    Éste, que ves, engaño colorido, \\nque del arte...\n",
       "261    De buscar a Narciso fatigada \\nsin permitir so...\n",
       "262    Esta tarde, mi bien, cuando te hablaba, \\ncomo...\n",
       "263    Detente, sombra de mi bien esquivo, \\nimagen d...\n",
       "264    Hombres necios que acusáis \\na la mujer sin ra...\n",
       "Name: orig_span, dtype: object"
      ]
     },
     "metadata": {},
     "execution_count": 73
    }
   ],
   "metadata": {}
  },
  {
   "cell_type": "code",
   "execution_count": 173,
   "source": [
    "#--- Running the translation code (max limit of 500k total so be careful).\n",
    "#--- One batch is too large for DeepL to handle, so will divide over 6 batches\n",
    "#--- of size 50ish.\n",
    "result = translator.translate_text(poems['orig_span'][251:], target_lang=\"EN-US\")"
   ],
   "outputs": [],
   "metadata": {}
  },
  {
   "cell_type": "code",
   "execution_count": 174,
   "source": [
    "#df1 = result\n",
    "#df2 = result\n",
    "#df3 = result\n",
    "#df4 = result\n",
    "#df5 = result\n",
    "df6 = result"
   ],
   "outputs": [],
   "metadata": {}
  },
  {
   "cell_type": "code",
   "execution_count": 175,
   "source": [
    "print(df6[0])"
   ],
   "outputs": [
    {
     "output_type": "stream",
     "name": "stdout",
     "text": [
      "Said the gnat to the frog\n",
      "from a jar,\n",
      "it is better to die in wine\n",
      "than to live in water.\n",
      "Water does not satisfy me,\n",
      "be it clear, liquid and pure;\n",
      "For even as much as it murmurs,\n",
      "the less evil he says he does:\n",
      "I want no one to hunt me,\n",
      "I want to die in my little hole,\n",
      "said the gnat to the frog, etc.\n",
      "In the water there are only fish,\n",
      "and to make you run more,\n",
      "in wine there are wolves and foxes\n",
      "and birds, like me, at times:\n",
      "in hides there are fish, and fish,\n",
      "everything fits in my district,\n",
      "said the gnat to the frog, and so on.\n",
      "I will not forgive you anything\n",
      "since you disguise my death;\n",
      "and if you call me drunk,\n",
      "I will call you watery.\n",
      "Thou in the angry puddles\n",
      "I dwell in the cellars,\n",
      "said the gnat to the frog, etc.\n",
      "I am the angel of the grape,\n",
      "and in the coolest cellars,\n",
      "nightingale of the tudescos,\n",
      "with no spur, no tuba:\n",
      "I am always in a vat,\n",
      "and you are always in a scream,\n",
      "said the gnat to the frog, etc.\n",
      "That you have to deal with,\n",
      "cry of silt and sludge,\n",
      "for by swallowing me all,\n",
      "no one can swallow you.\n",
      "Singer of dunghill,\n",
      "I am a blessed pike,\n",
      "said the gnat to the frog, etc.\n"
     ]
    }
   ],
   "metadata": {}
  },
  {
   "cell_type": "code",
   "execution_count": 188,
   "source": [
    "translated_texts.append(df6)"
   ],
   "outputs": [],
   "metadata": {}
  },
  {
   "cell_type": "code",
   "execution_count": 189,
   "source": [
    "# Flatten the list of lists into a single list\n",
    "flat_list = [poem for sublist in translated_texts for poem in sublist]\n",
    "\n",
    "# Convert to a pandas DataFrame\n",
    "df_translated_poems = pd.DataFrame(flat_list, columns=['Translated Poem'])"
   ],
   "outputs": [],
   "metadata": {}
  },
  {
   "cell_type": "code",
   "execution_count": 190,
   "source": [
    "df_translated_poems"
   ],
   "outputs": [
    {
     "output_type": "execute_result",
     "data": {
      "text/html": [
       "<div>\n",
       "<style scoped>\n",
       "    .dataframe tbody tr th:only-of-type {\n",
       "        vertical-align: middle;\n",
       "    }\n",
       "\n",
       "    .dataframe tbody tr th {\n",
       "        vertical-align: top;\n",
       "    }\n",
       "\n",
       "    .dataframe thead th {\n",
       "        text-align: right;\n",
       "    }\n",
       "</style>\n",
       "<table border=\"1\" class=\"dataframe\">\n",
       "  <thead>\n",
       "    <tr style=\"text-align: right;\">\n",
       "      <th></th>\n",
       "      <th>Translated Poem</th>\n",
       "    </tr>\n",
       "  </thead>\n",
       "  <tbody>\n",
       "    <tr>\n",
       "      <th>0</th>\n",
       "      <td>What farayu or what will bed of mibi?\\nHabibi,...</td>\n",
       "    </tr>\n",
       "    <tr>\n",
       "      <th>1</th>\n",
       "      <td>Of your eyes so strongly weeping,\\nI turned my...</td>\n",
       "    </tr>\n",
       "    <tr>\n",
       "      <th>2</th>\n",
       "      <td>Merced, ya rey señor por amor de caridad!\\nThe...</td>\n",
       "    </tr>\n",
       "    <tr>\n",
       "      <th>3</th>\n",
       "      <td>Sant Migael de la Tunba is a great monastery,\\...</td>\n",
       "    </tr>\n",
       "    <tr>\n",
       "      <th>4</th>\n",
       "      <td>It hung in front of it a good adventadero,\\nin...</td>\n",
       "    </tr>\n",
       "    <tr>\n",
       "      <th>...</th>\n",
       "      <td>...</td>\n",
       "    </tr>\n",
       "    <tr>\n",
       "      <th>260</th>\n",
       "      <td>This, that you see, colorful deception,\\nthat ...</td>\n",
       "    </tr>\n",
       "    <tr>\n",
       "      <th>261</th>\n",
       "      <td>Of searching for Narcissus weary\\nwithout allo...</td>\n",
       "    </tr>\n",
       "    <tr>\n",
       "      <th>262</th>\n",
       "      <td>This afternoon, my good, when I was talking to...</td>\n",
       "    </tr>\n",
       "    <tr>\n",
       "      <th>263</th>\n",
       "      <td>Stop, shadow of my elusive good,\\nimage of the...</td>\n",
       "    </tr>\n",
       "    <tr>\n",
       "      <th>264</th>\n",
       "      <td>Foolish men who accuse\\nthe woman without reas...</td>\n",
       "    </tr>\n",
       "  </tbody>\n",
       "</table>\n",
       "<p>265 rows × 1 columns</p>\n",
       "</div>"
      ],
      "text/plain": [
       "                                       Translated Poem\n",
       "0    What farayu or what will bed of mibi?\\nHabibi,...\n",
       "1    Of your eyes so strongly weeping,\\nI turned my...\n",
       "2    Merced, ya rey señor por amor de caridad!\\nThe...\n",
       "3    Sant Migael de la Tunba is a great monastery,\\...\n",
       "4    It hung in front of it a good adventadero,\\nin...\n",
       "..                                                 ...\n",
       "260  This, that you see, colorful deception,\\nthat ...\n",
       "261  Of searching for Narcissus weary\\nwithout allo...\n",
       "262  This afternoon, my good, when I was talking to...\n",
       "263  Stop, shadow of my elusive good,\\nimage of the...\n",
       "264  Foolish men who accuse\\nthe woman without reas...\n",
       "\n",
       "[265 rows x 1 columns]"
      ]
     },
     "metadata": {},
     "execution_count": 190
    }
   ],
   "metadata": {}
  },
  {
   "cell_type": "code",
   "execution_count": 191,
   "source": [
    "poems['deepl_trans'] = df_translated_poems"
   ],
   "outputs": [],
   "metadata": {}
  },
  {
   "cell_type": "code",
   "execution_count": 192,
   "source": [
    "poems"
   ],
   "outputs": [
    {
     "output_type": "execute_result",
     "data": {
      "text/html": [
       "<div>\n",
       "<style scoped>\n",
       "    .dataframe tbody tr th:only-of-type {\n",
       "        vertical-align: middle;\n",
       "    }\n",
       "\n",
       "    .dataframe tbody tr th {\n",
       "        vertical-align: top;\n",
       "    }\n",
       "\n",
       "    .dataframe thead th {\n",
       "        text-align: right;\n",
       "    }\n",
       "</style>\n",
       "<table border=\"1\" class=\"dataframe\">\n",
       "  <thead>\n",
       "    <tr style=\"text-align: right;\">\n",
       "      <th></th>\n",
       "      <th>orig_span</th>\n",
       "      <th>hum_trans</th>\n",
       "      <th>goog_trans</th>\n",
       "      <th>deepl_trans</th>\n",
       "      <th>translator_name</th>\n",
       "      <th>time_period</th>\n",
       "    </tr>\n",
       "  </thead>\n",
       "  <tbody>\n",
       "    <tr>\n",
       "      <th>0</th>\n",
       "      <td>¿Qué farayu o qué serád de mibi? \\nHabibi, \\nn...</td>\n",
       "      <td>What shall I do? What will become of me? \\nOh,...</td>\n",
       "      <td>What farayu or what will become of mibi?\\nHabi...</td>\n",
       "      <td>What farayu or what will bed of mibi?\\nHabibi,...</td>\n",
       "      <td>anon</td>\n",
       "      <td>med</td>\n",
       "    </tr>\n",
       "    <tr>\n",
       "      <th>1</th>\n",
       "      <td>De los sos ojos tan fuertemientre llorando, \\n...</td>\n",
       "      <td>His eyes flooding with bitter tears, the Cid c...</td>\n",
       "      <td>From your eyes so strong while crying,\\nHe tur...</td>\n",
       "      <td>Of your eyes so strongly weeping,\\nI turned my...</td>\n",
       "      <td>John A. Crow</td>\n",
       "      <td>med</td>\n",
       "    </tr>\n",
       "    <tr>\n",
       "      <th>2</th>\n",
       "      <td>¡Merced, ya rey señor por amor de caridad! \\nL...</td>\n",
       "      <td>Justice and mercy, my Lord the King, I beseech...</td>\n",
       "      <td>Mercy, now king, sir, for the love of charity!...</td>\n",
       "      <td>Merced, ya rey señor por amor de caridad!\\nThe...</td>\n",
       "      <td>John Hookham Frere</td>\n",
       "      <td>med</td>\n",
       "    </tr>\n",
       "    <tr>\n",
       "      <th>3</th>\n",
       "      <td>Sant Migael de la Tunba es un grand monesterio...</td>\n",
       "      <td>San Miguel de la Tumba is a convent vast and w...</td>\n",
       "      <td>Sant Migael de la Tunba is a great monastery,\\...</td>\n",
       "      <td>Sant Migael de la Tunba is a great monastery,\\...</td>\n",
       "      <td>Henry Wadsworth Longfellow</td>\n",
       "      <td>med</td>\n",
       "    </tr>\n",
       "    <tr>\n",
       "      <th>4</th>\n",
       "      <td>Colgava delant ella un buen aventadero, \\nen e...</td>\n",
       "      <td>Descending low before her face a screen of fea...</td>\n",
       "      <td>There was a good window hanging in front of he...</td>\n",
       "      <td>It hung in front of it a good adventadero,\\nin...</td>\n",
       "      <td>Henry Wadsworth Longfellow</td>\n",
       "      <td>med</td>\n",
       "    </tr>\n",
       "    <tr>\n",
       "      <th>...</th>\n",
       "      <td>...</td>\n",
       "      <td>...</td>\n",
       "      <td>...</td>\n",
       "      <td>...</td>\n",
       "      <td>...</td>\n",
       "      <td>...</td>\n",
       "    </tr>\n",
       "    <tr>\n",
       "      <th>260</th>\n",
       "      <td>Éste, que ves, engaño colorido, \\nque del arte...</td>\n",
       "      <td>This artifice of colors that you see \\nWhich b...</td>\n",
       "      <td>This one, what do you see, colorful deception,...</td>\n",
       "      <td>This, that you see, colorful deception,\\nthat ...</td>\n",
       "      <td>John A. Crow</td>\n",
       "      <td>baroque</td>\n",
       "    </tr>\n",
       "    <tr>\n",
       "      <th>261</th>\n",
       "      <td>De buscar a Narciso fatigada \\nsin permitir so...</td>\n",
       "      <td>Seeking Narcissus in my weariness, \\nWith neve...</td>\n",
       "      <td>Searching for Narcissus tired\\nwithout allowin...</td>\n",
       "      <td>Of searching for Narcissus weary\\nwithout allo...</td>\n",
       "      <td>Roderick Gill</td>\n",
       "      <td>baroque</td>\n",
       "    </tr>\n",
       "    <tr>\n",
       "      <th>262</th>\n",
       "      <td>Esta tarde, mi bien, cuando te hablaba, \\ncomo...</td>\n",
       "      <td>This afternoon. my Love, as I pled weeping, \\n...</td>\n",
       "      <td>This afternoon, my good, when I spoke to you,\\...</td>\n",
       "      <td>This afternoon, my good, when I was talking to...</td>\n",
       "      <td>John A. Crow</td>\n",
       "      <td>baroque</td>\n",
       "    </tr>\n",
       "    <tr>\n",
       "      <th>263</th>\n",
       "      <td>Detente, sombra de mi bien esquivo, \\nimagen d...</td>\n",
       "      <td>Stay, fleeting shadow of my love whose chain \\...</td>\n",
       "      <td>Stop, shadow of my elusive good,\\nimage of the...</td>\n",
       "      <td>Stop, shadow of my elusive good,\\nimage of the...</td>\n",
       "      <td>John A. Crow</td>\n",
       "      <td>baroque</td>\n",
       "    </tr>\n",
       "    <tr>\n",
       "      <th>264</th>\n",
       "      <td>Hombres necios que acusáis \\na la mujer sin ra...</td>\n",
       "      <td>Stupid men, forever prone \\nTo fix the blame o...</td>\n",
       "      <td>Foolish men you accuse\\nto the woman without r...</td>\n",
       "      <td>Foolish men who accuse\\nthe woman without reas...</td>\n",
       "      <td>Garrett Strange</td>\n",
       "      <td>baroque</td>\n",
       "    </tr>\n",
       "  </tbody>\n",
       "</table>\n",
       "<p>265 rows × 6 columns</p>\n",
       "</div>"
      ],
      "text/plain": [
       "                                             orig_span  \\\n",
       "0    ¿Qué farayu o qué serád de mibi? \\nHabibi, \\nn...   \n",
       "1    De los sos ojos tan fuertemientre llorando, \\n...   \n",
       "2    ¡Merced, ya rey señor por amor de caridad! \\nL...   \n",
       "3    Sant Migael de la Tunba es un grand monesterio...   \n",
       "4    Colgava delant ella un buen aventadero, \\nen e...   \n",
       "..                                                 ...   \n",
       "260  Éste, que ves, engaño colorido, \\nque del arte...   \n",
       "261  De buscar a Narciso fatigada \\nsin permitir so...   \n",
       "262  Esta tarde, mi bien, cuando te hablaba, \\ncomo...   \n",
       "263  Detente, sombra de mi bien esquivo, \\nimagen d...   \n",
       "264  Hombres necios que acusáis \\na la mujer sin ra...   \n",
       "\n",
       "                                             hum_trans  \\\n",
       "0    What shall I do? What will become of me? \\nOh,...   \n",
       "1    His eyes flooding with bitter tears, the Cid c...   \n",
       "2    Justice and mercy, my Lord the King, I beseech...   \n",
       "3    San Miguel de la Tumba is a convent vast and w...   \n",
       "4    Descending low before her face a screen of fea...   \n",
       "..                                                 ...   \n",
       "260  This artifice of colors that you see \\nWhich b...   \n",
       "261  Seeking Narcissus in my weariness, \\nWith neve...   \n",
       "262  This afternoon. my Love, as I pled weeping, \\n...   \n",
       "263  Stay, fleeting shadow of my love whose chain \\...   \n",
       "264  Stupid men, forever prone \\nTo fix the blame o...   \n",
       "\n",
       "                                            goog_trans  \\\n",
       "0    What farayu or what will become of mibi?\\nHabi...   \n",
       "1    From your eyes so strong while crying,\\nHe tur...   \n",
       "2    Mercy, now king, sir, for the love of charity!...   \n",
       "3    Sant Migael de la Tunba is a great monastery,\\...   \n",
       "4    There was a good window hanging in front of he...   \n",
       "..                                                 ...   \n",
       "260  This one, what do you see, colorful deception,...   \n",
       "261  Searching for Narcissus tired\\nwithout allowin...   \n",
       "262  This afternoon, my good, when I spoke to you,\\...   \n",
       "263  Stop, shadow of my elusive good,\\nimage of the...   \n",
       "264  Foolish men you accuse\\nto the woman without r...   \n",
       "\n",
       "                                           deepl_trans  \\\n",
       "0    What farayu or what will bed of mibi?\\nHabibi,...   \n",
       "1    Of your eyes so strongly weeping,\\nI turned my...   \n",
       "2    Merced, ya rey señor por amor de caridad!\\nThe...   \n",
       "3    Sant Migael de la Tunba is a great monastery,\\...   \n",
       "4    It hung in front of it a good adventadero,\\nin...   \n",
       "..                                                 ...   \n",
       "260  This, that you see, colorful deception,\\nthat ...   \n",
       "261  Of searching for Narcissus weary\\nwithout allo...   \n",
       "262  This afternoon, my good, when I was talking to...   \n",
       "263  Stop, shadow of my elusive good,\\nimage of the...   \n",
       "264  Foolish men who accuse\\nthe woman without reas...   \n",
       "\n",
       "                translator_name time_period  \n",
       "0                          anon         med  \n",
       "1                  John A. Crow         med  \n",
       "2            John Hookham Frere         med  \n",
       "3    Henry Wadsworth Longfellow         med  \n",
       "4    Henry Wadsworth Longfellow         med  \n",
       "..                          ...         ...  \n",
       "260                John A. Crow     baroque  \n",
       "261               Roderick Gill     baroque  \n",
       "262                John A. Crow     baroque  \n",
       "263                John A. Crow     baroque  \n",
       "264             Garrett Strange     baroque  \n",
       "\n",
       "[265 rows x 6 columns]"
      ]
     },
     "metadata": {},
     "execution_count": 192
    }
   ],
   "metadata": {}
  },
  {
   "cell_type": "code",
   "execution_count": 193,
   "source": [
    "poems.to_csv(\"test.csv\")"
   ],
   "outputs": [],
   "metadata": {}
  }
 ],
 "metadata": {
  "orig_nbformat": 4,
  "language_info": {
   "name": "python",
   "version": "3.11.1",
   "mimetype": "text/x-python",
   "codemirror_mode": {
    "name": "ipython",
    "version": 3
   },
   "pygments_lexer": "ipython3",
   "nbconvert_exporter": "python",
   "file_extension": ".py"
  },
  "kernelspec": {
   "name": "python3",
   "display_name": "Python 3.11.1 64-bit"
  },
  "interpreter": {
   "hash": "aee8b7b246df8f9039afb4144a1f6fd8d2ca17a180786b69acc140d282b71a49"
  }
 },
 "nbformat": 4,
 "nbformat_minor": 2
}